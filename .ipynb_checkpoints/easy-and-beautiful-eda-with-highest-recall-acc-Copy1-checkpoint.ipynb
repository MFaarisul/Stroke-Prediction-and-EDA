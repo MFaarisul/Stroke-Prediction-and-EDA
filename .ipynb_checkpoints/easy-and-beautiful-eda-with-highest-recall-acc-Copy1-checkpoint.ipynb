{
 "cells": [
  {
   "cell_type": "markdown",
   "metadata": {},
   "source": [
    "# Table of Contents\n",
    "\n",
    "**What is covered in this notebook?**\n",
    "* [Importing Libraries](#1)\n",
    "* [Load Dataset](#2)\n",
    "* [Data Cleaning and EDA](#3)\n",
    "* [Data Preprocessing](#4)\n",
    "* [Modeling](#5)\n",
    "* [Feature Importance](#6)\n",
    "* [Try To Predict](#7)\n",
    "* [Conclusion](#8)"
   ]
  },
  {
   "cell_type": "markdown",
   "metadata": {},
   "source": [
    "# Importing Libraries\n",
    "<a id='1'></a>"
   ]
  },
  {
   "cell_type": "markdown",
   "metadata": {},
   "source": [
    "So, we are going to import some common libraries such as numpy, pandas, matplotlib, seaborn, and scikit-learn to build our model"
   ]
  },
  {
   "cell_type": "code",
   "execution_count": null,
   "metadata": {
    "execution": {
     "iopub.execute_input": "2022-01-10T17:17:24.87257Z",
     "iopub.status.busy": "2022-01-10T17:17:24.872001Z",
     "iopub.status.idle": "2022-01-10T17:17:25.426241Z",
     "shell.execute_reply": "2022-01-10T17:17:25.425466Z",
     "shell.execute_reply.started": "2022-01-10T17:17:24.872503Z"
    }
   },
   "outputs": [],
   "source": [
    "import pandas as pd\n",
    "import numpy as np\n",
    "\n",
    "from matplotlib import colors\n",
    "import matplotlib.pyplot as plt\n",
    "import matplotlib.ticker as mtick\n",
    "import seaborn as sns\n",
    "\n",
    "from sklearn.preprocessing import StandardScaler, LabelEncoder\n",
    "from sklearn.model_selection import train_test_split, KFold, cross_val_score\n",
    "from sklearn.linear_model import LogisticRegression\n",
    "from sklearn.neighbors import KNeighborsClassifier\n",
    "from sklearn.tree import DecisionTreeClassifier\n",
    "from sklearn.ensemble import RandomForestClassifier\n",
    "from sklearn.naive_bayes import BernoulliNB\n",
    "from sklearn.svm import SVC\n",
    "from sklearn.metrics import confusion_matrix, classification_report\n",
    "\n",
    "import warnings\n",
    "warnings.filterwarnings('ignore')"
   ]
  },
  {
   "cell_type": "markdown",
   "metadata": {},
   "source": [
    "# Load Dataset\n",
    "<a id='2'></a>"
   ]
  },
  {
   "cell_type": "code",
   "execution_count": null,
   "metadata": {
    "execution": {
     "iopub.execute_input": "2022-01-10T17:17:25.430635Z",
     "iopub.status.busy": "2022-01-10T17:17:25.430399Z",
     "iopub.status.idle": "2022-01-10T17:17:25.465262Z",
     "shell.execute_reply": "2022-01-10T17:17:25.464349Z",
     "shell.execute_reply.started": "2022-01-10T17:17:25.430607Z"
    }
   },
   "outputs": [],
   "source": [
    "df = pd.read_csv('../input/stroke-prediction-dataset/healthcare-dataset-stroke-data.csv')\n",
    "df.head()"
   ]
  },
  {
   "cell_type": "code",
   "execution_count": null,
   "metadata": {
    "execution": {
     "iopub.execute_input": "2022-01-10T17:17:25.467013Z",
     "iopub.status.busy": "2022-01-10T17:17:25.466639Z",
     "iopub.status.idle": "2022-01-10T17:17:25.473146Z",
     "shell.execute_reply": "2022-01-10T17:17:25.472398Z",
     "shell.execute_reply.started": "2022-01-10T17:17:25.466962Z"
    }
   },
   "outputs": [],
   "source": [
    "df.shape"
   ]
  },
  {
   "cell_type": "markdown",
   "metadata": {},
   "source": [
    "# Data Cleaning and EDA\n",
    "<a id='3'></a>"
   ]
  },
  {
   "cell_type": "markdown",
   "metadata": {},
   "source": [
    "**In this part we are focus on 2 things:**\n",
    "1. Handle the missing values (whether fill or drop the data), remove irrelevant features, get rid the outliers\n",
    "2. Get some insights and patterns by visualizing the data\n",
    "\n",
    "So, let's jump into the process!\n",
    "First of all, we need to get the information necessary in order to get better understanding about the dataset we got already"
   ]
  },
  {
   "cell_type": "code",
   "execution_count": null,
   "metadata": {
    "execution": {
     "iopub.execute_input": "2022-01-10T17:17:25.475508Z",
     "iopub.status.busy": "2022-01-10T17:17:25.475254Z",
     "iopub.status.idle": "2022-01-10T17:17:25.498049Z",
     "shell.execute_reply": "2022-01-10T17:17:25.496918Z",
     "shell.execute_reply.started": "2022-01-10T17:17:25.47545Z"
    }
   },
   "outputs": [],
   "source": [
    "df.info()"
   ]
  },
  {
   "cell_type": "code",
   "execution_count": null,
   "metadata": {
    "execution": {
     "iopub.execute_input": "2022-01-10T17:17:25.500134Z",
     "iopub.status.busy": "2022-01-10T17:17:25.499683Z",
     "iopub.status.idle": "2022-01-10T17:17:25.532769Z",
     "shell.execute_reply": "2022-01-10T17:17:25.531935Z",
     "shell.execute_reply.started": "2022-01-10T17:17:25.50005Z"
    }
   },
   "outputs": [],
   "source": [
    "df.describe()"
   ]
  },
  {
   "cell_type": "code",
   "execution_count": null,
   "metadata": {
    "execution": {
     "iopub.execute_input": "2022-01-10T17:17:25.536028Z",
     "iopub.status.busy": "2022-01-10T17:17:25.535794Z",
     "iopub.status.idle": "2022-01-10T17:17:25.548186Z",
     "shell.execute_reply": "2022-01-10T17:17:25.547373Z",
     "shell.execute_reply.started": "2022-01-10T17:17:25.535999Z"
    }
   },
   "outputs": [],
   "source": [
    "df.isna().sum()"
   ]
  },
  {
   "cell_type": "markdown",
   "metadata": {},
   "source": [
    "**From information above, we can summarize:**\n",
    "* There are categorical features in the data. So we need to encode them into numeric features later on \n",
    "* Only 1 column that has missing values, that is bmi column\n",
    "* Minority of the sample are infants or children less than 1 year old"
   ]
  },
  {
   "cell_type": "code",
   "execution_count": null,
   "metadata": {
    "execution": {
     "iopub.execute_input": "2022-01-10T17:17:25.549856Z",
     "iopub.status.busy": "2022-01-10T17:17:25.549399Z",
     "iopub.status.idle": "2022-01-10T17:17:25.559323Z",
     "shell.execute_reply": "2022-01-10T17:17:25.558482Z",
     "shell.execute_reply.started": "2022-01-10T17:17:25.549823Z"
    }
   },
   "outputs": [],
   "source": [
    "#set color for data visualization\n",
    "sns.set(rc={\"axes.facecolor\":\"#EAE0D5\",\"figure.facecolor\":\"#EAE0D5\", \"grid.color\":\"#C6AC8F\",\n",
    "            \"axes.edgecolor\":\"#C6AC8F\", \"axes.labelcolor\":\"#0A0908\", \"xtick.color\":\"#0A0908\",\n",
    "            \"ytick.color\":\"#0A0908\"})\n",
    "\n",
    "palettes = ['#9B856A', '#475962', '#598392', '#124559', '#540B0E']\n",
    "cmap = colors.ListedColormap(['#9B856A', '#124559', '#475962', '#598392'])"
   ]
  },
  {
   "cell_type": "markdown",
   "metadata": {},
   "source": [
    "**Additional information:**\n",
    "* axes.facecolor --> set color for background inside x and y axis\n",
    "* figure.facecolor --> set color for background outside x and y axis where labels placed\n",
    "* grid.color --> set color for grid line\n",
    "* axes.edgecolor --> set color for line x and y axis\n",
    "* axes.labelcolor --> set color for labels in the plot\n",
    "* xtick.color --> set color for the values of x axis\n",
    "* ytick.color --> set color for the values of y axis"
   ]
  },
  {
   "cell_type": "code",
   "execution_count": null,
   "metadata": {
    "execution": {
     "iopub.execute_input": "2022-01-10T17:17:25.56124Z",
     "iopub.status.busy": "2022-01-10T17:17:25.560853Z",
     "iopub.status.idle": "2022-01-10T17:17:27.365279Z",
     "shell.execute_reply": "2022-01-10T17:17:27.364461Z",
     "shell.execute_reply.started": "2022-01-10T17:17:25.561205Z"
    }
   },
   "outputs": [],
   "source": [
    "sns.pairplot(data=df, y_vars='bmi', x_vars=['age', 'avg_glucose_level'], hue='Residence_type',\n",
    "             size=5, palette=['#9B856A', '#475962'])"
   ]
  },
  {
   "cell_type": "markdown",
   "metadata": {},
   "source": [
    "From the plot above, people mostly has bmi score in range 10 to 60 and there is no difference for people who live in urban or rural area. All data are equally distributed"
   ]
  },
  {
   "cell_type": "code",
   "execution_count": null,
   "metadata": {
    "execution": {
     "iopub.execute_input": "2022-01-10T17:17:27.367068Z",
     "iopub.status.busy": "2022-01-10T17:17:27.366743Z",
     "iopub.status.idle": "2022-01-10T17:17:27.376844Z",
     "shell.execute_reply": "2022-01-10T17:17:27.376044Z",
     "shell.execute_reply.started": "2022-01-10T17:17:27.367029Z"
    }
   },
   "outputs": [],
   "source": [
    "df['gender'].value_counts()"
   ]
  },
  {
   "cell_type": "markdown",
   "metadata": {},
   "source": [
    "Oh look, there is 1 data apart from Male and Female. Let's see if there is a relation between gender and bmi hopefully we can classify the Other gender to either Female or Male"
   ]
  },
  {
   "cell_type": "code",
   "execution_count": null,
   "metadata": {
    "execution": {
     "iopub.execute_input": "2022-01-10T17:17:27.378038Z",
     "iopub.status.busy": "2022-01-10T17:17:27.377832Z",
     "iopub.status.idle": "2022-01-10T17:17:27.613005Z",
     "shell.execute_reply": "2022-01-10T17:17:27.612191Z",
     "shell.execute_reply.started": "2022-01-10T17:17:27.378013Z"
    }
   },
   "outputs": [],
   "source": [
    "plt.figure(figsize=(8,5))\n",
    "sns.boxplot(data=df, x='gender', y='bmi', palette=palettes)"
   ]
  },
  {
   "cell_type": "markdown",
   "metadata": {},
   "source": [
    "From above plot there's no chance to know wheter the other gender is Female or Male because bmi for both of them is similar. So, we drop the Other gender"
   ]
  },
  {
   "cell_type": "code",
   "execution_count": null,
   "metadata": {
    "execution": {
     "iopub.execute_input": "2022-01-10T17:17:27.614412Z",
     "iopub.status.busy": "2022-01-10T17:17:27.614175Z",
     "iopub.status.idle": "2022-01-10T17:17:27.62097Z",
     "shell.execute_reply": "2022-01-10T17:17:27.620219Z",
     "shell.execute_reply.started": "2022-01-10T17:17:27.614383Z"
    }
   },
   "outputs": [],
   "source": [
    "df = df[df['gender'] != 'Other']"
   ]
  },
  {
   "cell_type": "markdown",
   "metadata": {},
   "source": [
    "Next, we want to know the distribution of gender in our dataset"
   ]
  },
  {
   "cell_type": "code",
   "execution_count": null,
   "metadata": {
    "execution": {
     "iopub.execute_input": "2022-01-10T17:17:27.622488Z",
     "iopub.status.busy": "2022-01-10T17:17:27.622231Z",
     "iopub.status.idle": "2022-01-10T17:17:27.636094Z",
     "shell.execute_reply": "2022-01-10T17:17:27.635518Z",
     "shell.execute_reply.started": "2022-01-10T17:17:27.622444Z"
    }
   },
   "outputs": [],
   "source": [
    "#total number of male and female in dataset\n",
    "value = df['gender'].value_counts().sort_values().values\n",
    "\n",
    "#percentage of male and female\n",
    "percent = (df['gender'].value_counts()*100/len(df)).sort_values().values\n",
    "\n",
    "idx = df['gender'].value_counts().sort_values().index.values"
   ]
  },
  {
   "cell_type": "code",
   "execution_count": null,
   "metadata": {
    "execution": {
     "iopub.execute_input": "2022-01-10T17:17:27.640254Z",
     "iopub.status.busy": "2022-01-10T17:17:27.639614Z",
     "iopub.status.idle": "2022-01-10T17:17:27.867015Z",
     "shell.execute_reply": "2022-01-10T17:17:27.866211Z",
     "shell.execute_reply.started": "2022-01-10T17:17:27.640221Z"
    }
   },
   "outputs": [],
   "source": [
    "plt.figure(figsize=(8,5))\n",
    "ax = sns.barplot(data=df, x=idx, y=percent, palette=palettes, edgecolor=palettes)\n",
    "\n",
    "#set y axis to percentage\n",
    "ax.yaxis.set_major_formatter(mtick.PercentFormatter())\n",
    "\n",
    "ax.set_title('Distribution of Gender in Dataset', weight='bold', fontsize=14)\n",
    "ax.set_xlabel('gender')\n",
    "ax.set_ylabel('% of gender')\n",
    "\n",
    "#place text in barplot\n",
    "for i,v in enumerate(percent):\n",
    "    #(x position, y position, text, ...)\n",
    "    ax.text(i, v-10, 'Total:{}\\n{:.2f}%'.format(value[i],v), horizontalalignment='center', weight='bold', color='white', fontsize=14)"
   ]
  },
  {
   "cell_type": "markdown",
   "metadata": {},
   "source": [
    "Let's have a look at the correlation among the features (Excluding the categorical attributes at this point)"
   ]
  },
  {
   "cell_type": "code",
   "execution_count": null,
   "metadata": {
    "execution": {
     "iopub.execute_input": "2022-01-10T17:17:27.868999Z",
     "iopub.status.busy": "2022-01-10T17:17:27.868533Z",
     "iopub.status.idle": "2022-01-10T17:17:28.434602Z",
     "shell.execute_reply": "2022-01-10T17:17:28.43376Z",
     "shell.execute_reply.started": "2022-01-10T17:17:27.868956Z"
    }
   },
   "outputs": [],
   "source": [
    "sns.heatmap(df.corr(), annot=True, fmt='.2f', cmap=cmap)"
   ]
  },
  {
   "cell_type": "markdown",
   "metadata": {},
   "source": [
    "We know that id column completely has no correlation to predict stroke. Furthermore, correlation between bmi and stroke is very low (under 0.05). So, we drop both of the features"
   ]
  },
  {
   "cell_type": "code",
   "execution_count": null,
   "metadata": {
    "execution": {
     "iopub.execute_input": "2022-01-10T17:17:28.436246Z",
     "iopub.status.busy": "2022-01-10T17:17:28.435823Z",
     "iopub.status.idle": "2022-01-10T17:17:28.441142Z",
     "shell.execute_reply": "2022-01-10T17:17:28.440286Z",
     "shell.execute_reply.started": "2022-01-10T17:17:28.436214Z"
    }
   },
   "outputs": [],
   "source": [
    "df.drop(['id', 'bmi'], axis=1, inplace=True)"
   ]
  },
  {
   "cell_type": "markdown",
   "metadata": {},
   "source": [
    "Let's explore age column in our dataset"
   ]
  },
  {
   "cell_type": "code",
   "execution_count": null,
   "metadata": {
    "execution": {
     "iopub.execute_input": "2022-01-10T17:17:28.442724Z",
     "iopub.status.busy": "2022-01-10T17:17:28.442517Z",
     "iopub.status.idle": "2022-01-10T17:17:28.91258Z",
     "shell.execute_reply": "2022-01-10T17:17:28.911803Z",
     "shell.execute_reply.started": "2022-01-10T17:17:28.442691Z"
    }
   },
   "outputs": [],
   "source": [
    "ax = sns.kdeplot(data=df, x='age', palette=palettes, color='#475962', fill=True)\n",
    "\n",
    "ax.annotate('Highest Density', weight='bold', xy=(50,0.016), xytext=(-10,0.015),\n",
    "            arrowprops=dict(facecolor='#475962', edgecolor='#475962', shrink=0.05))"
   ]
  },
  {
   "cell_type": "code",
   "execution_count": null,
   "metadata": {
    "execution": {
     "iopub.execute_input": "2022-01-10T17:17:28.91401Z",
     "iopub.status.busy": "2022-01-10T17:17:28.913809Z",
     "iopub.status.idle": "2022-01-10T17:17:32.507614Z",
     "shell.execute_reply": "2022-01-10T17:17:32.506888Z",
     "shell.execute_reply.started": "2022-01-10T17:17:28.913984Z"
    }
   },
   "outputs": [],
   "source": [
    "sns.jointplot(data=df, x='age', y='heart_disease', hue='stroke', kind='kde', fill=False, palette=['#9B856A', '#475962'])"
   ]
  },
  {
   "cell_type": "code",
   "execution_count": null,
   "metadata": {
    "execution": {
     "iopub.execute_input": "2022-01-10T17:17:32.509132Z",
     "iopub.status.busy": "2022-01-10T17:17:32.508928Z",
     "iopub.status.idle": "2022-01-10T17:17:36.161376Z",
     "shell.execute_reply": "2022-01-10T17:17:36.160654Z",
     "shell.execute_reply.started": "2022-01-10T17:17:32.509106Z"
    }
   },
   "outputs": [],
   "source": [
    "sns.jointplot(data=df, x='age', y='avg_glucose_level', hue='stroke', kind='kde', fill=False, palette=['#9B856A', '#475962'])"
   ]
  },
  {
   "cell_type": "markdown",
   "metadata": {},
   "source": [
    "**A thing we get from each plot**\n",
    "* In this dataset, majority of people are around 40 and 60 years old\n",
    "* Older people more likely to get heart disease than people under 40 years old\n",
    "* People above 50 years old have more chance to get stroke"
   ]
  },
  {
   "cell_type": "markdown",
   "metadata": {},
   "source": [
    "Let's see what we can get from the plot below. Is there something interesting?"
   ]
  },
  {
   "cell_type": "code",
   "execution_count": null,
   "metadata": {
    "execution": {
     "iopub.execute_input": "2022-01-10T17:17:36.162874Z",
     "iopub.status.busy": "2022-01-10T17:17:36.162673Z",
     "iopub.status.idle": "2022-01-10T17:17:38.343259Z",
     "shell.execute_reply": "2022-01-10T17:17:38.342316Z",
     "shell.execute_reply.started": "2022-01-10T17:17:36.162848Z"
    }
   },
   "outputs": [],
   "source": [
    "g = sns.FacetGrid(data=df, row='work_type', col='Residence_type', hue='stroke',\n",
    "                  size=2.5, aspect=2, palette=palettes)\n",
    "g.map(plt.scatter, 'age', 'avg_glucose_level', edgecolor='#EAE0D5', lw=0.2)"
   ]
  },
  {
   "cell_type": "markdown",
   "metadata": {},
   "source": [
    "**Some interesting insights:**\n",
    "* Stroke doesn't look where people live. Distribution of stroke in the urban area is similar to rural area\n",
    "* 2 children have stroke"
   ]
  },
  {
   "cell_type": "code",
   "execution_count": null,
   "metadata": {
    "execution": {
     "iopub.execute_input": "2022-01-10T17:17:38.345059Z",
     "iopub.status.busy": "2022-01-10T17:17:38.344836Z",
     "iopub.status.idle": "2022-01-10T17:17:38.354481Z",
     "shell.execute_reply": "2022-01-10T17:17:38.353694Z",
     "shell.execute_reply.started": "2022-01-10T17:17:38.345031Z"
    }
   },
   "outputs": [],
   "source": [
    "df[df['stroke'] == 1]['age'].sort_values()"
   ]
  },
  {
   "cell_type": "markdown",
   "metadata": {},
   "source": [
    "Because those children are outlier, i think we can get rid both of them from our dataset"
   ]
  },
  {
   "cell_type": "code",
   "execution_count": null,
   "metadata": {
    "execution": {
     "iopub.execute_input": "2022-01-10T17:17:38.35566Z",
     "iopub.status.busy": "2022-01-10T17:17:38.355427Z",
     "iopub.status.idle": "2022-01-10T17:17:38.364642Z",
     "shell.execute_reply": "2022-01-10T17:17:38.363846Z",
     "shell.execute_reply.started": "2022-01-10T17:17:38.355634Z"
    }
   },
   "outputs": [],
   "source": [
    "df.drop(df.index[[162,245]], inplace=True)"
   ]
  },
  {
   "cell_type": "code",
   "execution_count": null,
   "metadata": {
    "execution": {
     "iopub.execute_input": "2022-01-10T17:17:38.366805Z",
     "iopub.status.busy": "2022-01-10T17:17:38.366516Z",
     "iopub.status.idle": "2022-01-10T17:17:38.662008Z",
     "shell.execute_reply": "2022-01-10T17:17:38.661193Z",
     "shell.execute_reply.started": "2022-01-10T17:17:38.366766Z"
    }
   },
   "outputs": [],
   "source": [
    "ax = sns.violinplot(data=df, x='hypertension', y='age', hue='gender', split=True, palette=palettes)"
   ]
  },
  {
   "cell_type": "code",
   "execution_count": null,
   "metadata": {
    "execution": {
     "iopub.execute_input": "2022-01-10T17:17:38.66372Z",
     "iopub.status.busy": "2022-01-10T17:17:38.663313Z",
     "iopub.status.idle": "2022-01-10T17:17:38.893087Z",
     "shell.execute_reply": "2022-01-10T17:17:38.892393Z",
     "shell.execute_reply.started": "2022-01-10T17:17:38.663675Z"
    }
   },
   "outputs": [],
   "source": [
    "ax = sns.countplot(data=df, x='stroke', hue='gender', palette=palettes, edgecolor=palettes)\n",
    "\n",
    "for patch in ax.patches:\n",
    "    clr = patch.get_facecolor()\n",
    "    patch.set_edgecolor(clr)"
   ]
  },
  {
   "cell_type": "markdown",
   "metadata": {},
   "source": [
    "If we look at the visualization, total number of female who got stroke is bigger than male"
   ]
  },
  {
   "cell_type": "markdown",
   "metadata": {},
   "source": [
    "Next, let's focus on smoking status column. We will try to do some visualizations to get better understanding about the effect of smoking"
   ]
  },
  {
   "cell_type": "code",
   "execution_count": null,
   "metadata": {
    "execution": {
     "iopub.execute_input": "2022-01-10T17:17:38.894395Z",
     "iopub.status.busy": "2022-01-10T17:17:38.894195Z",
     "iopub.status.idle": "2022-01-10T17:17:38.900363Z",
     "shell.execute_reply": "2022-01-10T17:17:38.899204Z",
     "shell.execute_reply.started": "2022-01-10T17:17:38.89437Z"
    }
   },
   "outputs": [],
   "source": [
    "smoke = df['smoking_status'].value_counts()"
   ]
  },
  {
   "cell_type": "code",
   "execution_count": null,
   "metadata": {
    "execution": {
     "iopub.execute_input": "2022-01-10T17:17:38.902211Z",
     "iopub.status.busy": "2022-01-10T17:17:38.901834Z",
     "iopub.status.idle": "2022-01-10T17:17:39.028395Z",
     "shell.execute_reply": "2022-01-10T17:17:39.027448Z",
     "shell.execute_reply.started": "2022-01-10T17:17:38.902183Z"
    }
   },
   "outputs": [],
   "source": [
    "fig, ax = plt.subplots(figsize =(8, 5))\n",
    "wedges, texts, autotexts = ax.pie(x=smoke, autopct=\"%.2f%%\", labels=smoke.index, explode=[0,0.15,0,0], colors=palettes,\n",
    "        radius=1.5, wedgeprops={ 'linewidth' : 1, 'edgecolor' : '#EAE0D5' }, textprops=dict(fontsize=14))\n",
    "\n",
    "ax.set_title('Distribution of Smoking Status in Dataset', y=1.3, weight='bold', fontsize=14)\n",
    "\n",
    "for autotext in autotexts:\n",
    "    autotext.set_color('white')\n",
    "    autotext.set_weight('bold')"
   ]
  },
  {
   "cell_type": "code",
   "execution_count": null,
   "metadata": {
    "execution": {
     "iopub.execute_input": "2022-01-10T17:17:39.029944Z",
     "iopub.status.busy": "2022-01-10T17:17:39.029626Z",
     "iopub.status.idle": "2022-01-10T17:17:39.433049Z",
     "shell.execute_reply": "2022-01-10T17:17:39.432214Z",
     "shell.execute_reply.started": "2022-01-10T17:17:39.029911Z"
    }
   },
   "outputs": [],
   "source": [
    "ax = sns.countplot(data=df, hue='work_type', y='smoking_status', palette=palettes, orient='h')\n",
    "\n",
    "#to change edgecolor\n",
    "for patch in ax.patches:\n",
    "    clr = patch.get_facecolor()\n",
    "    patch.set_edgecolor(clr)\n",
    "\n",
    "ax.legend(bbox_to_anchor=(1.4, 0.4))\n",
    "sns.despine()"
   ]
  },
  {
   "cell_type": "code",
   "execution_count": null,
   "metadata": {
    "execution": {
     "iopub.execute_input": "2022-01-10T17:17:39.43495Z",
     "iopub.status.busy": "2022-01-10T17:17:39.434623Z",
     "iopub.status.idle": "2022-01-10T17:17:39.696156Z",
     "shell.execute_reply": "2022-01-10T17:17:39.695546Z",
     "shell.execute_reply.started": "2022-01-10T17:17:39.434907Z"
    }
   },
   "outputs": [],
   "source": [
    "sns.boxplot(data=df, x='smoking_status', y='age', palette=palettes)"
   ]
  },
  {
   "cell_type": "markdown",
   "metadata": {},
   "source": [
    "Those 3 plots above show us there's unknown smoking status that might influence our model. Fortunately we got some insight from relation between smoking status and work type plot. As we can see that unknown status has a big number of children and we can assume that children never smoke. So, with that assumtion we can categorize unknown status to never smoked status\n",
    "\n",
    "**The next step, we will replace the status in the following manner:**\n",
    "* smokes and formerly smoked --> smoke\n",
    "* never smoked and unknown --> never smoked"
   ]
  },
  {
   "cell_type": "code",
   "execution_count": null,
   "metadata": {
    "execution": {
     "iopub.execute_input": "2022-01-10T17:17:39.698136Z",
     "iopub.status.busy": "2022-01-10T17:17:39.697653Z",
     "iopub.status.idle": "2022-01-10T17:17:39.703176Z",
     "shell.execute_reply": "2022-01-10T17:17:39.702306Z",
     "shell.execute_reply.started": "2022-01-10T17:17:39.698091Z"
    }
   },
   "outputs": [],
   "source": [
    "def smoke(text):\n",
    "    if text == 'never smoked' or text == 'Unknown':\n",
    "        return 'never smoked'\n",
    "    else:\n",
    "        return 'smoke'"
   ]
  },
  {
   "cell_type": "code",
   "execution_count": null,
   "metadata": {
    "execution": {
     "iopub.execute_input": "2022-01-10T17:17:39.706971Z",
     "iopub.status.busy": "2022-01-10T17:17:39.706148Z",
     "iopub.status.idle": "2022-01-10T17:17:39.717287Z",
     "shell.execute_reply": "2022-01-10T17:17:39.716686Z",
     "shell.execute_reply.started": "2022-01-10T17:17:39.706939Z"
    }
   },
   "outputs": [],
   "source": [
    "df['smoking_status'] = df['smoking_status'].apply(smoke)"
   ]
  },
  {
   "cell_type": "code",
   "execution_count": null,
   "metadata": {
    "execution": {
     "iopub.execute_input": "2022-01-10T17:17:39.720645Z",
     "iopub.status.busy": "2022-01-10T17:17:39.718304Z",
     "iopub.status.idle": "2022-01-10T17:17:39.969177Z",
     "shell.execute_reply": "2022-01-10T17:17:39.968411Z",
     "shell.execute_reply.started": "2022-01-10T17:17:39.720606Z"
    }
   },
   "outputs": [],
   "source": [
    "ax = sns.barplot(data=df, x='smoking_status', y='heart_disease', hue='hypertension', palette=palettes, ci=None)\n",
    "\n",
    "#to change edgecolor\n",
    "for patch in ax.patches:\n",
    "    clr = patch.get_facecolor()\n",
    "    patch.set_edgecolor(clr)\n",
    "\n",
    "sns.despine()"
   ]
  },
  {
   "cell_type": "markdown",
   "metadata": {},
   "source": [
    "Seems like heart disease is more likely to occur to someone with hypertension and smokers have more chance to get hypertension"
   ]
  },
  {
   "cell_type": "code",
   "execution_count": null,
   "metadata": {
    "execution": {
     "iopub.execute_input": "2022-01-10T17:17:39.970685Z",
     "iopub.status.busy": "2022-01-10T17:17:39.970432Z",
     "iopub.status.idle": "2022-01-10T17:17:40.3251Z",
     "shell.execute_reply": "2022-01-10T17:17:40.324252Z",
     "shell.execute_reply.started": "2022-01-10T17:17:39.970656Z"
    }
   },
   "outputs": [],
   "source": [
    "ax = sns.barplot(data=df, x='smoking_status', y='stroke',\n",
    "            palette=palettes, edgecolor=palettes, ci=None)\n",
    "\n",
    "ax.set_title('Chance of Getting Stroke Based on Smoking Behavior', y=1.1, weight='bold', fontsize=14)"
   ]
  },
  {
   "cell_type": "markdown",
   "metadata": {},
   "source": [
    "Well, smoking increases the risk of stroke by around 2.5%"
   ]
  },
  {
   "cell_type": "code",
   "execution_count": null,
   "metadata": {
    "execution": {
     "iopub.execute_input": "2022-01-10T17:17:40.326986Z",
     "iopub.status.busy": "2022-01-10T17:17:40.326678Z",
     "iopub.status.idle": "2022-01-10T17:17:40.348397Z",
     "shell.execute_reply": "2022-01-10T17:17:40.347552Z",
     "shell.execute_reply.started": "2022-01-10T17:17:40.326945Z"
    }
   },
   "outputs": [],
   "source": [
    "data_prob = pd.crosstab(index=df['stroke'], columns=df['smoking_status'], normalize='index')\n",
    "data_prob = data_prob*100\n",
    "data_prob"
   ]
  },
  {
   "cell_type": "code",
   "execution_count": null,
   "metadata": {
    "execution": {
     "iopub.execute_input": "2022-01-10T17:17:40.350353Z",
     "iopub.status.busy": "2022-01-10T17:17:40.349889Z",
     "iopub.status.idle": "2022-01-10T17:17:40.592439Z",
     "shell.execute_reply": "2022-01-10T17:17:40.591812Z",
     "shell.execute_reply.started": "2022-01-10T17:17:40.350312Z"
    }
   },
   "outputs": [],
   "source": [
    "ax = data_prob.plot.bar(rot=0, stacked=True, color=palettes, edgecolor='#EAE0D5')\n",
    "ax.yaxis.set_major_formatter(mtick.PercentFormatter())\n",
    "ax.set_title('Distribution of Smoking Status Based on Whether They Have Stroke or Not', x=0.6, y=1.1, weight='bold', fontsize=14)\n",
    "ax.set_ylabel('% of smoking_status')\n",
    "\n",
    "for i,ns in enumerate(data_prob['never smoked']):\n",
    "    ax.text(i, ns/2, '{:.2f}%'.format(ns), ha='center', fontsize=13, weight='bold', color='white')\n",
    "\n",
    "for i,s in enumerate(data_prob['smoke']):\n",
    "    ax.text(i, 100-s/2, '{:.2f}%'.format(s), ha='center', fontsize=13, weight='bold', color='white')\n",
    "            \n",
    "ax.legend(bbox_to_anchor=(1.05, 1))\n",
    "sns.despine()"
   ]
  },
  {
   "cell_type": "markdown",
   "metadata": {},
   "source": [
    "# Preprocessing\n",
    "<a id='4'></a>"
   ]
  },
  {
   "cell_type": "markdown",
   "metadata": {},
   "source": [
    "In this part, we are going to encode object features using dummy variables as well as performing feature scalling to dataset"
   ]
  },
  {
   "cell_type": "code",
   "execution_count": null,
   "metadata": {
    "execution": {
     "iopub.execute_input": "2022-01-10T17:17:40.593911Z",
     "iopub.status.busy": "2022-01-10T17:17:40.593597Z",
     "iopub.status.idle": "2022-01-10T17:17:40.597449Z",
     "shell.execute_reply": "2022-01-10T17:17:40.596897Z",
     "shell.execute_reply.started": "2022-01-10T17:17:40.593883Z"
    }
   },
   "outputs": [],
   "source": [
    "#get all object features\n",
    "obj_feat = df.dtypes[df.dtypes == 'O'].index.values"
   ]
  },
  {
   "cell_type": "code",
   "execution_count": null,
   "metadata": {
    "execution": {
     "iopub.execute_input": "2022-01-10T17:17:40.598807Z",
     "iopub.status.busy": "2022-01-10T17:17:40.598466Z",
     "iopub.status.idle": "2022-01-10T17:17:40.620544Z",
     "shell.execute_reply": "2022-01-10T17:17:40.619868Z",
     "shell.execute_reply.started": "2022-01-10T17:17:40.598766Z"
    }
   },
   "outputs": [],
   "source": [
    "le = LabelEncoder()\n",
    "\n",
    "for i in obj_feat:\n",
    "    df[i] = le.fit_transform(df[i])"
   ]
  },
  {
   "cell_type": "code",
   "execution_count": null,
   "metadata": {
    "execution": {
     "iopub.execute_input": "2022-01-10T17:17:40.621921Z",
     "iopub.status.busy": "2022-01-10T17:17:40.6216Z",
     "iopub.status.idle": "2022-01-10T17:17:40.642154Z",
     "shell.execute_reply": "2022-01-10T17:17:40.641332Z",
     "shell.execute_reply.started": "2022-01-10T17:17:40.621894Z"
    }
   },
   "outputs": [],
   "source": [
    "df.head()"
   ]
  },
  {
   "cell_type": "code",
   "execution_count": null,
   "metadata": {
    "execution": {
     "iopub.execute_input": "2022-01-10T17:17:40.643634Z",
     "iopub.status.busy": "2022-01-10T17:17:40.643378Z",
     "iopub.status.idle": "2022-01-10T17:17:40.655154Z",
     "shell.execute_reply": "2022-01-10T17:17:40.654344Z",
     "shell.execute_reply.started": "2022-01-10T17:17:40.643597Z"
    }
   },
   "outputs": [],
   "source": [
    "X = df.drop('stroke', axis=1)\n",
    "y = df['stroke']"
   ]
  },
  {
   "cell_type": "code",
   "execution_count": null,
   "metadata": {
    "execution": {
     "iopub.execute_input": "2022-01-10T17:17:40.656447Z",
     "iopub.status.busy": "2022-01-10T17:17:40.656236Z",
     "iopub.status.idle": "2022-01-10T17:17:40.668723Z",
     "shell.execute_reply": "2022-01-10T17:17:40.668138Z",
     "shell.execute_reply.started": "2022-01-10T17:17:40.656422Z"
    }
   },
   "outputs": [],
   "source": [
    "scaler = StandardScaler()\n",
    "\n",
    "scaler.fit(X)\n",
    "X_scaled = scaler.transform(X)\n",
    "X = pd.DataFrame(X_scaled, columns=X.columns)"
   ]
  },
  {
   "cell_type": "code",
   "execution_count": null,
   "metadata": {
    "execution": {
     "iopub.execute_input": "2022-01-10T17:17:40.670736Z",
     "iopub.status.busy": "2022-01-10T17:17:40.669895Z",
     "iopub.status.idle": "2022-01-10T17:17:40.68674Z",
     "shell.execute_reply": "2022-01-10T17:17:40.686131Z",
     "shell.execute_reply.started": "2022-01-10T17:17:40.670696Z"
    }
   },
   "outputs": [],
   "source": [
    "X.head()"
   ]
  },
  {
   "cell_type": "code",
   "execution_count": null,
   "metadata": {
    "execution": {
     "iopub.execute_input": "2022-01-10T17:17:40.691359Z",
     "iopub.status.busy": "2022-01-10T17:17:40.690964Z",
     "iopub.status.idle": "2022-01-10T17:17:40.699151Z",
     "shell.execute_reply": "2022-01-10T17:17:40.698561Z",
     "shell.execute_reply.started": "2022-01-10T17:17:40.691313Z"
    }
   },
   "outputs": [],
   "source": [
    "X_train, X_test, y_train, y_test = train_test_split(X, y, test_size=0.3, random_state=11)"
   ]
  },
  {
   "cell_type": "markdown",
   "metadata": {},
   "source": [
    "# Modeling\n",
    "<a id='5'></a>"
   ]
  },
  {
   "cell_type": "markdown",
   "metadata": {},
   "source": [
    "We will use 6 models for predicting categorical output, with the help of cross validation we evaluate the performance of each model using recall and accuracy score. By simply taking the mean of both scores, we know which model has the highest score indicating it has the best performance for this particular case\n",
    "\n",
    "**Metrics we use:**\n",
    "* Accuracy --> Ratio of correctly predicted observation to the total observations\n",
    "* Recall --> Ratio of correctly predicted positive observations to the all observations in actual class"
   ]
  },
  {
   "cell_type": "code",
   "execution_count": null,
   "metadata": {
    "execution": {
     "iopub.execute_input": "2022-01-10T17:17:40.700624Z",
     "iopub.status.busy": "2022-01-10T17:17:40.700251Z",
     "iopub.status.idle": "2022-01-10T17:17:40.710597Z",
     "shell.execute_reply": "2022-01-10T17:17:40.710012Z",
     "shell.execute_reply.started": "2022-01-10T17:17:40.700594Z"
    }
   },
   "outputs": [],
   "source": [
    "all_model = [LogisticRegression(), KNeighborsClassifier(), DecisionTreeClassifier(),\n",
    "            RandomForestClassifier(), BernoulliNB(), SVC()]"
   ]
  },
  {
   "cell_type": "code",
   "execution_count": null,
   "metadata": {
    "execution": {
     "iopub.execute_input": "2022-01-10T17:17:40.711973Z",
     "iopub.status.busy": "2022-01-10T17:17:40.711776Z",
     "iopub.status.idle": "2022-01-10T17:17:51.697864Z",
     "shell.execute_reply": "2022-01-10T17:17:51.696948Z",
     "shell.execute_reply.started": "2022-01-10T17:17:40.711949Z"
    }
   },
   "outputs": [],
   "source": [
    "recall = []\n",
    "accuracy = []\n",
    "\n",
    "for model in all_model:\n",
    "    cv = cross_val_score(model, X_train, y_train, scoring='recall', cv=10).mean()\n",
    "    recall.append(cv)\n",
    "\n",
    "    cv = cross_val_score(model, X_train, y_train, scoring='accuracy', cv=10).mean()\n",
    "    accuracy.append(cv)"
   ]
  },
  {
   "cell_type": "code",
   "execution_count": null,
   "metadata": {
    "execution": {
     "iopub.execute_input": "2022-01-10T17:17:51.699522Z",
     "iopub.status.busy": "2022-01-10T17:17:51.699305Z",
     "iopub.status.idle": "2022-01-10T17:17:51.771914Z",
     "shell.execute_reply": "2022-01-10T17:17:51.771065Z",
     "shell.execute_reply.started": "2022-01-10T17:17:51.699495Z"
    }
   },
   "outputs": [],
   "source": [
    "model = ['LogisticRegression', 'KNeighborsClassifier', 'DecisionTreeClassifier',\n",
    "         'RandomForestClassifier', 'BernoulliNB', 'SVC']\n",
    "\n",
    "score = pd.DataFrame({'Model': model, 'Accuracy': accuracy, 'Recall': recall})\n",
    "score.style.background_gradient(cmap=cmap,high=1,axis=0)"
   ]
  },
  {
   "cell_type": "markdown",
   "metadata": {},
   "source": [
    "Performance of each model is shown in the table above. In this particular case, it's better to have a high recall since we don't want to predict someone has no stroke, but he actually has stroke. From this consideration, We choose Decision Tree Classifier as our final model\n",
    "\n",
    "However, because of the imbalanced dataset, the average model performance is not quite good to develop in the real world due to the mean of recall score is very low"
   ]
  },
  {
   "cell_type": "code",
   "execution_count": null,
   "metadata": {
    "execution": {
     "iopub.execute_input": "2022-01-10T17:17:51.773633Z",
     "iopub.status.busy": "2022-01-10T17:17:51.773134Z",
     "iopub.status.idle": "2022-01-10T17:17:51.789651Z",
     "shell.execute_reply": "2022-01-10T17:17:51.788735Z",
     "shell.execute_reply.started": "2022-01-10T17:17:51.773581Z"
    }
   },
   "outputs": [],
   "source": [
    "dtc = DecisionTreeClassifier()\n",
    "\n",
    "dtc.fit(X_train, y_train)"
   ]
  },
  {
   "cell_type": "code",
   "execution_count": null,
   "metadata": {
    "execution": {
     "iopub.execute_input": "2022-01-10T17:17:51.791306Z",
     "iopub.status.busy": "2022-01-10T17:17:51.790903Z",
     "iopub.status.idle": "2022-01-10T17:17:51.797039Z",
     "shell.execute_reply": "2022-01-10T17:17:51.79644Z",
     "shell.execute_reply.started": "2022-01-10T17:17:51.791275Z"
    }
   },
   "outputs": [],
   "source": [
    "pred = dtc.predict(X_test)"
   ]
  },
  {
   "cell_type": "code",
   "execution_count": null,
   "metadata": {
    "execution": {
     "iopub.execute_input": "2022-01-10T17:17:51.798515Z",
     "iopub.status.busy": "2022-01-10T17:17:51.797986Z",
     "iopub.status.idle": "2022-01-10T17:17:51.816494Z",
     "shell.execute_reply": "2022-01-10T17:17:51.815654Z",
     "shell.execute_reply.started": "2022-01-10T17:17:51.798462Z"
    }
   },
   "outputs": [],
   "source": [
    "print(confusion_matrix(y_test, pred, labels=(1,0)))\n",
    "print(classification_report(y_test, pred))"
   ]
  },
  {
   "cell_type": "markdown",
   "metadata": {},
   "source": [
    "# Feature Importance\n",
    "<a id='6'></a>"
   ]
  },
  {
   "cell_type": "code",
   "execution_count": null,
   "metadata": {
    "execution": {
     "iopub.execute_input": "2022-01-10T17:17:51.818706Z",
     "iopub.status.busy": "2022-01-10T17:17:51.818215Z",
     "iopub.status.idle": "2022-01-10T17:17:52.131338Z",
     "shell.execute_reply": "2022-01-10T17:17:52.130573Z",
     "shell.execute_reply.started": "2022-01-10T17:17:51.818631Z"
    }
   },
   "outputs": [],
   "source": [
    "pd.DataFrame(dtc.feature_importances_, index=X.columns, columns=['Feature Importance']).sort_values(by='Feature Importance').plot.bar(color=palettes, edgecolor='#EAE0D5')"
   ]
  },
  {
   "cell_type": "markdown",
   "metadata": {},
   "source": [
    "For this particular dataset, avg_glucose_level and age are the most important features to determine if someone has high risk or low risk of getting stroke. The higher glucose level in blood, the higher the risk for getting stroke and likewise the older people"
   ]
  },
  {
   "cell_type": "markdown",
   "metadata": {},
   "source": [
    "# Try To Predict\n",
    "<a id='7'></a>"
   ]
  },
  {
   "cell_type": "code",
   "execution_count": null,
   "metadata": {
    "execution": {
     "iopub.execute_input": "2022-01-10T17:17:52.132733Z",
     "iopub.status.busy": "2022-01-10T17:17:52.132518Z",
     "iopub.status.idle": "2022-01-10T17:17:52.137312Z",
     "shell.execute_reply": "2022-01-10T17:17:52.136161Z",
     "shell.execute_reply.started": "2022-01-10T17:17:52.132707Z"
    }
   },
   "outputs": [],
   "source": [
    "def prediction(feat_value):\n",
    "    scaled = scaler.transform(feat_value)\n",
    "    return dtc.predict(feat_value)"
   ]
  },
  {
   "cell_type": "markdown",
   "metadata": {},
   "source": [
    "**We want to try predicting the output using 2 scenarios provided below**"
   ]
  },
  {
   "cell_type": "markdown",
   "metadata": {},
   "source": [
    "**Scenario 1**\n",
    "* Gender: Male (1)\n",
    "* Age: 65\n",
    "* Hypertension: True (1)\n",
    "* Heart_disease: False (0)\n",
    "* Ever_married: True (1)\n",
    "* Work_type: Self-employed (3)\n",
    "* Residence_type: Urban (1)\n",
    "* Avg_glucose_level: 200\n",
    "* Smoking_status: Smoke (1)"
   ]
  },
  {
   "cell_type": "code",
   "execution_count": null,
   "metadata": {
    "execution": {
     "iopub.execute_input": "2022-01-10T17:17:52.139198Z",
     "iopub.status.busy": "2022-01-10T17:17:52.138905Z",
     "iopub.status.idle": "2022-01-10T17:17:52.150783Z",
     "shell.execute_reply": "2022-01-10T17:17:52.149984Z",
     "shell.execute_reply.started": "2022-01-10T17:17:52.139156Z"
    }
   },
   "outputs": [],
   "source": [
    "prediction([[1, 65, 1, 0, 1, 3, 1, 200, 1]])"
   ]
  },
  {
   "cell_type": "markdown",
   "metadata": {},
   "source": [
    "**Scenario 2**\n",
    "* Gender: Female (0)\n",
    "* Age: 40\n",
    "* Hypertension: False (0)\n",
    "* Heart_disease: False (0)\n",
    "* Ever_married: True (1)\n",
    "* Work_type: Govt_job (0)\n",
    "* Residence_type: Rural (0)\n",
    "* Avg_glucose_level: 160\n",
    "* Smoking_status: Never_smoked (0)"
   ]
  },
  {
   "cell_type": "code",
   "execution_count": null,
   "metadata": {
    "execution": {
     "iopub.execute_input": "2022-01-10T17:17:52.152009Z",
     "iopub.status.busy": "2022-01-10T17:17:52.151781Z",
     "iopub.status.idle": "2022-01-10T17:17:52.163543Z",
     "shell.execute_reply": "2022-01-10T17:17:52.162687Z",
     "shell.execute_reply.started": "2022-01-10T17:17:52.151981Z"
    }
   },
   "outputs": [],
   "source": [
    "prediction([[0, 40, 0, 0, 1, 0, 0, 160, 0]])"
   ]
  },
  {
   "cell_type": "markdown",
   "metadata": {},
   "source": [
    "We end up getting the output 1 (high risk) for scenario 1 and output 0 (low risk) for scenario 2"
   ]
  },
  {
   "cell_type": "markdown",
   "metadata": {},
   "source": [
    "# Conclusion\n",
    "<a id='8'></a>"
   ]
  },
  {
   "cell_type": "markdown",
   "metadata": {},
   "source": [
    "In this entire work, we build a machine learning model to predict whether someone has high risk of getting stroke or not. We decided using Decision Tree Classifier as our final model since it has the highest recall score and good accuracy score as well. From analysis we did earlier from our model, glucose level in the body and age have the main role to determine the output"
   ]
  },
  {
   "cell_type": "markdown",
   "metadata": {},
   "source": [
    "**If you find this notebook useful, please upvote**\n",
    "\n",
    "**Thanks**"
   ]
  }
 ],
 "metadata": {
  "kernelspec": {
   "display_name": "Python 3 (ipykernel)",
   "language": "python",
   "name": "python3"
  },
  "language_info": {
   "codemirror_mode": {
    "name": "ipython",
    "version": 3
   },
   "file_extension": ".py",
   "mimetype": "text/x-python",
   "name": "python",
   "nbconvert_exporter": "python",
   "pygments_lexer": "ipython3",
   "version": "3.9.0"
  }
 },
 "nbformat": 4,
 "nbformat_minor": 4
}
